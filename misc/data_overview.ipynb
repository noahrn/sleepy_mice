{
 "cells": [
  {
   "cell_type": "code",
   "execution_count": 14,
   "metadata": {},
   "outputs": [],
   "source": [
    "import matplotlib.pyplot as plt\n",
    "import numpy as np \n",
    "import pandas as pd\n",
    "import os\n",
    "import json"
   ]
  },
  {
   "cell_type": "code",
   "execution_count": 18,
   "metadata": {},
   "outputs": [],
   "source": [
    "# open config file\n",
    "def load_config(config_path=None):\n",
    "    if config_path is None:\n",
    "        script_dir = os.path.dirname(__file__) \n",
    "        project_root = os.path.abspath(os.path.join(script_dir, '..', '..'))  # navigate two levels up to the project root\n",
    "        config_path = os.path.join(project_root, 'config.json')\n",
    "    \n",
    "    with open(config_path, 'r') as config_file:\n",
    "        config = json.load(config_file)\n",
    "    return config\n",
    "\n",
    "def load_data(data_path):\n",
    "    data = pd.read_csv(data_path)\n",
    "    return data"
   ]
  },
  {
   "cell_type": "code",
   "execution_count": 24,
   "metadata": {},
   "outputs": [],
   "source": [
    "import os\n",
    "import json\n",
    "import pandas as pd\n",
    "\n",
    "# open config file\n",
    "def load_config(config_path=None):\n",
    "    if config_path is None:\n",
    "        # Get the current working directory\n",
    "        cwd = os.getcwd()\n",
    "        project_root = os.path.abspath(os.path.join(cwd, '..'))  # navigate two levels up to the project root\n",
    "        config_path = os.path.join(project_root, 'config.json')\n",
    "    \n",
    "    with open(config_path, 'r') as config_file:\n",
    "        config = json.load(config_file)\n",
    "    return config\n",
    "\n",
    "def load_data(data_path):\n",
    "    data = pd.read_csv(data_path)\n",
    "    return data\n",
    "\n",
    "config = load_config()\n",
    "data_path = config['data_path']\n",
    "data = load_data(data_path)"
   ]
  },
  {
   "cell_type": "code",
   "execution_count": 29,
   "metadata": {},
   "outputs": [
    {
     "name": "stdout",
     "output_type": "stream",
     "text": [
      "    slowdelta   fastdelta   slowtheta   fasttheta      alpha       beta  \\\n",
      "0  528.584023  370.200447  235.735391  205.805979  75.988092  13.273196   \n",
      "1  368.691405  214.083349  165.467827   92.983005  41.392088   7.643469   \n",
      "2  148.764327  405.340661  235.939887   94.879132  42.856426  10.731685   \n",
      "3   64.648625   85.934535  200.231794  163.555837  29.363525   5.409392   \n",
      "4   69.056042   91.792258  303.882162   56.034816  19.103509   5.254522   \n",
      "\n",
      "      gamma       rms  mouseID  lab  sleepstage  epoch  \n",
      "0  1.274694  0.464923      1.0  1.0         3.0    1.0  \n",
      "1  0.786264  0.342968      1.0  1.0         3.0    2.0  \n",
      "2  1.135943  0.315582      1.0  1.0         3.0    3.0  \n",
      "3  1.036426  0.294122      1.0  1.0         1.0    6.0  \n",
      "4  1.065458  0.288047      1.0  1.0         1.0    7.0  \n"
     ]
    }
   ],
   "source": [
    "print(data.head())"
   ]
  }
 ],
 "metadata": {
  "kernelspec": {
   "display_name": "dtu",
   "language": "python",
   "name": "python3"
  },
  "language_info": {
   "codemirror_mode": {
    "name": "ipython",
    "version": 3
   },
   "file_extension": ".py",
   "mimetype": "text/x-python",
   "name": "python",
   "nbconvert_exporter": "python",
   "pygments_lexer": "ipython3",
   "version": "3.9.18"
  }
 },
 "nbformat": 4,
 "nbformat_minor": 2
}
