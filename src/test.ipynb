{
 "cells": [
  {
   "cell_type": "code",
   "execution_count": 2,
   "metadata": {},
   "outputs": [
    {
     "name": "stdout",
     "output_type": "stream",
     "text": [
      "Loading data from /Users/noahryu/Library/CloudStorage/OneDrive-Personal/DTU/Semester 4 - 2024/Project_work/sleepy_mice/data/df_v2.csv\n",
      "Normalizing data for all labs...\n",
      "Normalized data successfully loaded from all labs.\n",
      "Data loaded and normalized with shape: (1758530, 12)\n",
      "Nan in data: 0\n"
     ]
    }
   ],
   "source": [
    "from preprocessing.data_loader import load_and_process_data\n",
    "\n",
    "# modularized data load\n",
    "data = load_and_process_data(normalize=True, lab=\"all\")\n",
    "print(\"Data loaded and normalized with shape:\", data.shape)\n",
    "\n",
    "# print nan\n",
    "print(\"Nan in data:\", data.isnull().sum().sum())"
   ]
  }
 ],
 "metadata": {
  "kernelspec": {
   "display_name": "dtu",
   "language": "python",
   "name": "python3"
  },
  "language_info": {
   "codemirror_mode": {
    "name": "ipython",
    "version": 3
   },
   "file_extension": ".py",
   "mimetype": "text/x-python",
   "name": "python",
   "nbconvert_exporter": "python",
   "pygments_lexer": "ipython3",
   "version": "3.9.18"
  }
 },
 "nbformat": 4,
 "nbformat_minor": 2
}
